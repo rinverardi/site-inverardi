{
 "cells": [
  {
   "cell_type": "markdown",
   "metadata": {
    "id": "dHZhEcDPSbFb"
   },
   "source": [
    "# Smile Detection"
   ]
  },
  {
   "cell_type": "code",
   "execution_count": 11,
   "metadata": {},
   "outputs": [],
   "source": [
    "import os\n",
    "\n",
    "os.environ[\"TF_CPP_MIN_LOG_LEVEL\"] = \"3\""
   ]
  },
  {
   "cell_type": "code",
   "execution_count": 12,
   "metadata": {},
   "outputs": [],
   "source": [
    "import cv2 as cv\n",
    "\n",
    "face_detector = cv.CascadeClassifier(os.path.join(cv.data.haarcascades, \"haarcascade_frontalface_default.xml\"))"
   ]
  },
  {
   "cell_type": "code",
   "execution_count": 13,
   "metadata": {},
   "outputs": [],
   "source": [
    "import keras\n",
    "\n",
    "model = keras.models.load_model(\"smile.keras\")"
   ]
  },
  {
   "cell_type": "code",
   "execution_count": null,
   "metadata": {},
   "outputs": [],
   "source": [
    "import numpy as np\n",
    "\n",
    "capture = cv.VideoCapture(0)\n",
    "\n",
    "try:\n",
    "    while True:\n",
    "      _, frame = capture.read()\n",
    "    \n",
    "      frame = cv.flip(frame, 1)\n",
    "      frame_gray = cv.cvtColor(frame, cv.COLOR_BGR2GRAY)\n",
    "\n",
    "      face = face_detector.detectMultiScale(frame_gray, minNeighbors=10, minSize=(50, 50), scaleFactor=1.1)\n",
    "\n",
    "      for x, y, w, h in face:\n",
    "          face = cv.resize(frame_gray[y:y + h, x:x + w], (64, 64), interpolation=cv.INTER_CUBIC)\n",
    "          face_array = np.array([face]) / 255\n",
    "\n",
    "          smiling = model.predict(face_array)[0][1]\n",
    "\n",
    "          cv.putText(\n",
    "            frame,\n",
    "            f\"{round(smiling * 100)}%\",\n",
    "            (int(x), int(y - 5)),\n",
    "            cv.FONT_HERSHEY_SIMPLEX,\n",
    "            1,\n",
    "            (255, 255, 255))\n",
    "\n",
    "          if (smiling > 0.1):\n",
    "              cv.rectangle(frame, (x, y), (x + w, y + h), (0, 255, 0), 2)\n",
    "          else:\n",
    "              cv.rectangle(frame, (x, y), (x + w, y + h), (0, 0, 255), 2)\n",
    "\n",
    "      cv.imshow(\"frame\", frame)\n",
    "\n",
    "      if cv.pollKey() == 27:\n",
    "          break\n",
    "    \n",
    "      if cv.getWindowProperty(\"frame\", cv.WND_PROP_VISIBLE) < 1:\n",
    "          break\n",
    "\n",
    "    cv.destroyAllWindows()\n",
    "finally:\n",
    "    capture.release()"
   ]
  }
 ],
 "metadata": {
  "colab": {
   "provenance": []
  },
  "kernelspec": {
   "display_name": "Python 3 (ipykernel)",
   "language": "python",
   "name": "python3"
  },
  "language_info": {
   "codemirror_mode": {
    "name": "ipython",
    "version": 3
   },
   "file_extension": ".py",
   "mimetype": "text/x-python",
   "name": "python",
   "nbconvert_exporter": "python",
   "pygments_lexer": "ipython3",
   "version": "3.11.5"
  },
  "varInspector": {
   "cols": {
    "lenName": 16,
    "lenType": 16,
    "lenVar": 40
   },
   "kernels_config": {
    "python": {
     "delete_cmd_postfix": "",
     "delete_cmd_prefix": "del ",
     "library": "var_list.py",
     "varRefreshCmd": "print(var_dic_list())"
    },
    "r": {
     "delete_cmd_postfix": ") ",
     "delete_cmd_prefix": "rm(",
     "library": "var_list.r",
     "varRefreshCmd": "cat(var_dic_list()) "
    }
   },
   "types_to_exclude": [
    "module",
    "function",
    "builtin_function_or_method",
    "instance",
    "_Feature"
   ],
   "window_display": false
  }
 },
 "nbformat": 4,
 "nbformat_minor": 4
}
